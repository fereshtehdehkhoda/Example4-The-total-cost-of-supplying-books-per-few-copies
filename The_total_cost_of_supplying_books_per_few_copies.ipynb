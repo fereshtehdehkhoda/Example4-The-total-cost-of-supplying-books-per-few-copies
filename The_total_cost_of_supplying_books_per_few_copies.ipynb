{
  "cells": [
    {
      "cell_type": "markdown",
      "metadata": {
        "id": "view-in-github",
        "colab_type": "text"
      },
      "source": [
        "<a href=\"https://colab.research.google.com/github/fereshtehdehkhoda/Example4-The-total-cost-of-supplying-books-per-few-copies/blob/main/The_total_cost_of_supplying_books_per_few_copies.ipynb\" target=\"_parent\"><img src=\"https://colab.research.google.com/assets/colab-badge.svg\" alt=\"Open In Colab\"/></a>"
      ]
    },
    {
      "cell_type": "markdown",
      "id": "93ceab21-2415-4721-9ae1-860c7aa8a718",
      "metadata": {
        "id": "93ceab21-2415-4721-9ae1-860c7aa8a718"
      },
      "source": [
        "# The total cost of supplying books per few copies"
      ]
    },
    {
      "cell_type": "code",
      "execution_count": null,
      "id": "a760491d-4b88-489c-9fac-15c7b9ad5464",
      "metadata": {
        "id": "a760491d-4b88-489c-9fac-15c7b9ad5464",
        "outputId": "6e26de30-a59b-4ca2-9dac-74e67e02b7f2"
      },
      "outputs": [
        {
          "name": "stdin",
          "output_type": "stream",
          "text": [
            "please Enter book Cover price:  49.99\n",
            "please Enter book discount in percent:  30\n",
            "please Enter The cost of sending the first copy of the book:  3\n",
            "please Enter Shipping fee per additional copy in cent:  65\n",
            "please Enter the Number of copies:  80\n"
          ]
        },
        {
          "name": "stdout",
          "output_type": "stream",
          "text": [
            "The total cost of providing books is 2853.79\n"
          ]
        }
      ],
      "source": [
        "#Step1\n",
        "Cover_price = float(input(\"please Enter book Cover price: \"))\n",
        "Book_discount = float(input(\"please Enter book discount in percent: \"))\n",
        "\n",
        "cost_of_sending_the_first_copy = float(input('please Enter The cost of sending the first copy of the book: '))\n",
        "Shipping_fee_per_additional_copy = float(input('please Enter Shipping fee per additional copy in cent: '))\n",
        "\n",
        "Number_of_copies = int(input('please Enter the Number of copies: '))\n",
        "\n",
        "#Step2\n",
        "\n",
        "Discounted_book_price = Cover_price - (Cover_price * (Book_discount/100))\n",
        "\n",
        "The_total_cost_of_providing_books = (Number_of_copies * Discounted_book_price) + cost_of_sending_the_first_copy + (Number_of_copies-1) * ((Shipping_fee_per_additional_copy)/100)\n",
        "\n",
        "#Step3\n",
        "\n",
        "print(f\"The total cost of providing books is {The_total_cost_of_providing_books:0.2f}\")"
      ]
    }
  ],
  "metadata": {
    "kernelspec": {
      "display_name": "Python 3 (ipykernel)",
      "language": "python",
      "name": "python3"
    },
    "language_info": {
      "codemirror_mode": {
        "name": "ipython",
        "version": 3
      },
      "file_extension": ".py",
      "mimetype": "text/x-python",
      "name": "python",
      "nbconvert_exporter": "python",
      "pygments_lexer": "ipython3",
      "version": "3.12.4"
    },
    "colab": {
      "provenance": [],
      "include_colab_link": true
    }
  },
  "nbformat": 4,
  "nbformat_minor": 5
}